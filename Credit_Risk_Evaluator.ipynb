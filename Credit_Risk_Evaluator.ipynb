{
  "nbformat": 4,
  "nbformat_minor": 0,
  "metadata": {
    "colab": {
      "provenance": []
    },
    "kernelspec": {
      "name": "python3",
      "display_name": "Python 3"
    },
    "language_info": {
      "name": "python"
    }
  },
  "cells": [
    {
      "cell_type": "code",
      "execution_count": 1,
      "metadata": {
        "id": "ZzaScnwKwM_g"
      },
      "outputs": [],
      "source": [
        "%matplotlib inline\n",
        "from matplotlib import pyplot as plt\n",
        "import numpy as np\n",
        "import pandas as pd\n",
        "from pathlib import Path\n",
        "from sklearn.model_selection import train_test_split\n",
        "from sklearn.preprocessing import StandardScaler"
      ]
    },
    {
      "cell_type": "code",
      "source": [
        "# Import the data\n",
        "file_path = Path(\"lending_data.csv\")\n",
        "df = pd.read_csv(file_path)\n",
        "df.head()"
      ],
      "metadata": {
        "colab": {
          "base_uri": "https://localhost:8080/",
          "height": 206
        },
        "id": "LXx0sMt4xV6R",
        "outputId": "1ced8dbc-baf7-4a64-8b16-44be330deb0a"
      },
      "execution_count": 4,
      "outputs": [
        {
          "output_type": "execute_result",
          "data": {
            "text/plain": [
              "   loan_size  interest_rate  borrower_income  debt_to_income  num_of_accounts  \\\n",
              "0    10700.0          7.672            52800        0.431818                5   \n",
              "1     8400.0          6.692            43600        0.311927                3   \n",
              "2     9000.0          6.963            46100        0.349241                3   \n",
              "3    10700.0          7.664            52700        0.430740                5   \n",
              "4    10800.0          7.698            53000        0.433962                5   \n",
              "\n",
              "   derogatory_marks  total_debt  loan_status  \n",
              "0                 1       22800            0  \n",
              "1                 0       13600            0  \n",
              "2                 0       16100            0  \n",
              "3                 1       22700            0  \n",
              "4                 1       23000            0  "
            ],
            "text/html": [
              "\n",
              "  <div id=\"df-dd708883-c6cb-4d44-a9ef-32ba50eaf553\">\n",
              "    <div class=\"colab-df-container\">\n",
              "      <div>\n",
              "<style scoped>\n",
              "    .dataframe tbody tr th:only-of-type {\n",
              "        vertical-align: middle;\n",
              "    }\n",
              "\n",
              "    .dataframe tbody tr th {\n",
              "        vertical-align: top;\n",
              "    }\n",
              "\n",
              "    .dataframe thead th {\n",
              "        text-align: right;\n",
              "    }\n",
              "</style>\n",
              "<table border=\"1\" class=\"dataframe\">\n",
              "  <thead>\n",
              "    <tr style=\"text-align: right;\">\n",
              "      <th></th>\n",
              "      <th>loan_size</th>\n",
              "      <th>interest_rate</th>\n",
              "      <th>borrower_income</th>\n",
              "      <th>debt_to_income</th>\n",
              "      <th>num_of_accounts</th>\n",
              "      <th>derogatory_marks</th>\n",
              "      <th>total_debt</th>\n",
              "      <th>loan_status</th>\n",
              "    </tr>\n",
              "  </thead>\n",
              "  <tbody>\n",
              "    <tr>\n",
              "      <th>0</th>\n",
              "      <td>10700.0</td>\n",
              "      <td>7.672</td>\n",
              "      <td>52800</td>\n",
              "      <td>0.431818</td>\n",
              "      <td>5</td>\n",
              "      <td>1</td>\n",
              "      <td>22800</td>\n",
              "      <td>0</td>\n",
              "    </tr>\n",
              "    <tr>\n",
              "      <th>1</th>\n",
              "      <td>8400.0</td>\n",
              "      <td>6.692</td>\n",
              "      <td>43600</td>\n",
              "      <td>0.311927</td>\n",
              "      <td>3</td>\n",
              "      <td>0</td>\n",
              "      <td>13600</td>\n",
              "      <td>0</td>\n",
              "    </tr>\n",
              "    <tr>\n",
              "      <th>2</th>\n",
              "      <td>9000.0</td>\n",
              "      <td>6.963</td>\n",
              "      <td>46100</td>\n",
              "      <td>0.349241</td>\n",
              "      <td>3</td>\n",
              "      <td>0</td>\n",
              "      <td>16100</td>\n",
              "      <td>0</td>\n",
              "    </tr>\n",
              "    <tr>\n",
              "      <th>3</th>\n",
              "      <td>10700.0</td>\n",
              "      <td>7.664</td>\n",
              "      <td>52700</td>\n",
              "      <td>0.430740</td>\n",
              "      <td>5</td>\n",
              "      <td>1</td>\n",
              "      <td>22700</td>\n",
              "      <td>0</td>\n",
              "    </tr>\n",
              "    <tr>\n",
              "      <th>4</th>\n",
              "      <td>10800.0</td>\n",
              "      <td>7.698</td>\n",
              "      <td>53000</td>\n",
              "      <td>0.433962</td>\n",
              "      <td>5</td>\n",
              "      <td>1</td>\n",
              "      <td>23000</td>\n",
              "      <td>0</td>\n",
              "    </tr>\n",
              "  </tbody>\n",
              "</table>\n",
              "</div>\n",
              "      <button class=\"colab-df-convert\" onclick=\"convertToInteractive('df-dd708883-c6cb-4d44-a9ef-32ba50eaf553')\"\n",
              "              title=\"Convert this dataframe to an interactive table.\"\n",
              "              style=\"display:none;\">\n",
              "        \n",
              "  <svg xmlns=\"http://www.w3.org/2000/svg\" height=\"24px\"viewBox=\"0 0 24 24\"\n",
              "       width=\"24px\">\n",
              "    <path d=\"M0 0h24v24H0V0z\" fill=\"none\"/>\n",
              "    <path d=\"M18.56 5.44l.94 2.06.94-2.06 2.06-.94-2.06-.94-.94-2.06-.94 2.06-2.06.94zm-11 1L8.5 8.5l.94-2.06 2.06-.94-2.06-.94L8.5 2.5l-.94 2.06-2.06.94zm10 10l.94 2.06.94-2.06 2.06-.94-2.06-.94-.94-2.06-.94 2.06-2.06.94z\"/><path d=\"M17.41 7.96l-1.37-1.37c-.4-.4-.92-.59-1.43-.59-.52 0-1.04.2-1.43.59L10.3 9.45l-7.72 7.72c-.78.78-.78 2.05 0 2.83L4 21.41c.39.39.9.59 1.41.59.51 0 1.02-.2 1.41-.59l7.78-7.78 2.81-2.81c.8-.78.8-2.07 0-2.86zM5.41 20L4 18.59l7.72-7.72 1.47 1.35L5.41 20z\"/>\n",
              "  </svg>\n",
              "      </button>\n",
              "      \n",
              "  <style>\n",
              "    .colab-df-container {\n",
              "      display:flex;\n",
              "      flex-wrap:wrap;\n",
              "      gap: 12px;\n",
              "    }\n",
              "\n",
              "    .colab-df-convert {\n",
              "      background-color: #E8F0FE;\n",
              "      border: none;\n",
              "      border-radius: 50%;\n",
              "      cursor: pointer;\n",
              "      display: none;\n",
              "      fill: #1967D2;\n",
              "      height: 32px;\n",
              "      padding: 0 0 0 0;\n",
              "      width: 32px;\n",
              "    }\n",
              "\n",
              "    .colab-df-convert:hover {\n",
              "      background-color: #E2EBFA;\n",
              "      box-shadow: 0px 1px 2px rgba(60, 64, 67, 0.3), 0px 1px 3px 1px rgba(60, 64, 67, 0.15);\n",
              "      fill: #174EA6;\n",
              "    }\n",
              "\n",
              "    [theme=dark] .colab-df-convert {\n",
              "      background-color: #3B4455;\n",
              "      fill: #D2E3FC;\n",
              "    }\n",
              "\n",
              "    [theme=dark] .colab-df-convert:hover {\n",
              "      background-color: #434B5C;\n",
              "      box-shadow: 0px 1px 3px 1px rgba(0, 0, 0, 0.15);\n",
              "      filter: drop-shadow(0px 1px 2px rgba(0, 0, 0, 0.3));\n",
              "      fill: #FFFFFF;\n",
              "    }\n",
              "  </style>\n",
              "\n",
              "      <script>\n",
              "        const buttonEl =\n",
              "          document.querySelector('#df-dd708883-c6cb-4d44-a9ef-32ba50eaf553 button.colab-df-convert');\n",
              "        buttonEl.style.display =\n",
              "          google.colab.kernel.accessAllowed ? 'block' : 'none';\n",
              "\n",
              "        async function convertToInteractive(key) {\n",
              "          const element = document.querySelector('#df-dd708883-c6cb-4d44-a9ef-32ba50eaf553');\n",
              "          const dataTable =\n",
              "            await google.colab.kernel.invokeFunction('convertToInteractive',\n",
              "                                                     [key], {});\n",
              "          if (!dataTable) return;\n",
              "\n",
              "          const docLinkHtml = 'Like what you see? Visit the ' +\n",
              "            '<a target=\"_blank\" href=https://colab.research.google.com/notebooks/data_table.ipynb>data table notebook</a>'\n",
              "            + ' to learn more about interactive tables.';\n",
              "          element.innerHTML = '';\n",
              "          dataTable['output_type'] = 'display_data';\n",
              "          await google.colab.output.renderOutput(dataTable, element);\n",
              "          const docLink = document.createElement('div');\n",
              "          docLink.innerHTML = docLinkHtml;\n",
              "          element.appendChild(docLink);\n",
              "        }\n",
              "      </script>\n",
              "    </div>\n",
              "  </div>\n",
              "  "
            ]
          },
          "metadata": {},
          "execution_count": 4
        }
      ]
    },
    {
      "cell_type": "code",
      "source": [
        "df[\"loan_status\"].value_counts()"
      ],
      "metadata": {
        "colab": {
          "base_uri": "https://localhost:8080/"
        },
        "id": "NWg9Ofgox6Pr",
        "outputId": "9509b8a0-e5c6-4760-f5ce-8ff28b7670a2"
      },
      "execution_count": 5,
      "outputs": [
        {
          "output_type": "execute_result",
          "data": {
            "text/plain": [
              "0    75036\n",
              "1     2500\n",
              "Name: loan_status, dtype: int64"
            ]
          },
          "metadata": {},
          "execution_count": 5
        }
      ]
    },
    {
      "cell_type": "code",
      "source": [
        "df.dtypes"
      ],
      "metadata": {
        "colab": {
          "base_uri": "https://localhost:8080/"
        },
        "id": "iiIrjqIoyBbl",
        "outputId": "ffabec38-f523-44cc-d42e-d42ac9135e16"
      },
      "execution_count": 6,
      "outputs": [
        {
          "output_type": "execute_result",
          "data": {
            "text/plain": [
              "loan_size           float64\n",
              "interest_rate       float64\n",
              "borrower_income       int64\n",
              "debt_to_income      float64\n",
              "num_of_accounts       int64\n",
              "derogatory_marks      int64\n",
              "total_debt            int64\n",
              "loan_status           int64\n",
              "dtype: object"
            ]
          },
          "metadata": {},
          "execution_count": 6
        }
      ]
    },
    {
      "cell_type": "code",
      "source": [
        "df.columns"
      ],
      "metadata": {
        "colab": {
          "base_uri": "https://localhost:8080/"
        },
        "id": "KaFXyiL6yGk_",
        "outputId": "1a026e8c-33bd-410f-ccde-bbb9d2ddc213"
      },
      "execution_count": 7,
      "outputs": [
        {
          "output_type": "execute_result",
          "data": {
            "text/plain": [
              "Index(['loan_size', 'interest_rate', 'borrower_income', 'debt_to_income',\n",
              "       'num_of_accounts', 'derogatory_marks', 'total_debt', 'loan_status'],\n",
              "      dtype='object')"
            ]
          },
          "metadata": {},
          "execution_count": 7
        }
      ]
    },
    {
      "cell_type": "code",
      "source": [
        "# Define the X (features) and y (target) sets\n",
        "y = df[\"loan_status\"].values\n",
        "X = df.drop(\"loan_status\", axis=1)\n",
        "target_names = [\"low risk\", \"high risk\"]"
      ],
      "metadata": {
        "id": "T6fBoQMiyOoG"
      },
      "execution_count": 8,
      "outputs": []
    },
    {
      "cell_type": "code",
      "source": [
        "# Split the data into X_train, X_test, y_train, y_test\n",
        "X_train, X_test, y_train, y_test = train_test_split(X, y, random_state=42)\n",
        "\n",
        "X_train.head()"
      ],
      "metadata": {
        "colab": {
          "base_uri": "https://localhost:8080/",
          "height": 206
        },
        "id": "YPT7lPStyRl_",
        "outputId": "f5795036-424d-4bc6-f665-9e6f1f29b143"
      },
      "execution_count": 9,
      "outputs": [
        {
          "output_type": "execute_result",
          "data": {
            "text/plain": [
              "       loan_size  interest_rate  borrower_income  debt_to_income  \\\n",
              "63243     8900.0          6.893            45500        0.340659   \n",
              "36991     9000.0          6.932            45800        0.344978   \n",
              "39985     8900.0          6.896            45500        0.340659   \n",
              "63047     9000.0          6.961            46100        0.349241   \n",
              "49913     8400.0          6.712            43800        0.315068   \n",
              "\n",
              "       num_of_accounts  derogatory_marks  total_debt  \n",
              "63243                3                 0       15500  \n",
              "36991                3                 0       15800  \n",
              "39985                3                 0       15500  \n",
              "63047                3                 0       16100  \n",
              "49913                3                 0       13800  "
            ],
            "text/html": [
              "\n",
              "  <div id=\"df-7bd8247a-ecce-478c-acf1-a5a6c867ca36\">\n",
              "    <div class=\"colab-df-container\">\n",
              "      <div>\n",
              "<style scoped>\n",
              "    .dataframe tbody tr th:only-of-type {\n",
              "        vertical-align: middle;\n",
              "    }\n",
              "\n",
              "    .dataframe tbody tr th {\n",
              "        vertical-align: top;\n",
              "    }\n",
              "\n",
              "    .dataframe thead th {\n",
              "        text-align: right;\n",
              "    }\n",
              "</style>\n",
              "<table border=\"1\" class=\"dataframe\">\n",
              "  <thead>\n",
              "    <tr style=\"text-align: right;\">\n",
              "      <th></th>\n",
              "      <th>loan_size</th>\n",
              "      <th>interest_rate</th>\n",
              "      <th>borrower_income</th>\n",
              "      <th>debt_to_income</th>\n",
              "      <th>num_of_accounts</th>\n",
              "      <th>derogatory_marks</th>\n",
              "      <th>total_debt</th>\n",
              "    </tr>\n",
              "  </thead>\n",
              "  <tbody>\n",
              "    <tr>\n",
              "      <th>63243</th>\n",
              "      <td>8900.0</td>\n",
              "      <td>6.893</td>\n",
              "      <td>45500</td>\n",
              "      <td>0.340659</td>\n",
              "      <td>3</td>\n",
              "      <td>0</td>\n",
              "      <td>15500</td>\n",
              "    </tr>\n",
              "    <tr>\n",
              "      <th>36991</th>\n",
              "      <td>9000.0</td>\n",
              "      <td>6.932</td>\n",
              "      <td>45800</td>\n",
              "      <td>0.344978</td>\n",
              "      <td>3</td>\n",
              "      <td>0</td>\n",
              "      <td>15800</td>\n",
              "    </tr>\n",
              "    <tr>\n",
              "      <th>39985</th>\n",
              "      <td>8900.0</td>\n",
              "      <td>6.896</td>\n",
              "      <td>45500</td>\n",
              "      <td>0.340659</td>\n",
              "      <td>3</td>\n",
              "      <td>0</td>\n",
              "      <td>15500</td>\n",
              "    </tr>\n",
              "    <tr>\n",
              "      <th>63047</th>\n",
              "      <td>9000.0</td>\n",
              "      <td>6.961</td>\n",
              "      <td>46100</td>\n",
              "      <td>0.349241</td>\n",
              "      <td>3</td>\n",
              "      <td>0</td>\n",
              "      <td>16100</td>\n",
              "    </tr>\n",
              "    <tr>\n",
              "      <th>49913</th>\n",
              "      <td>8400.0</td>\n",
              "      <td>6.712</td>\n",
              "      <td>43800</td>\n",
              "      <td>0.315068</td>\n",
              "      <td>3</td>\n",
              "      <td>0</td>\n",
              "      <td>13800</td>\n",
              "    </tr>\n",
              "  </tbody>\n",
              "</table>\n",
              "</div>\n",
              "      <button class=\"colab-df-convert\" onclick=\"convertToInteractive('df-7bd8247a-ecce-478c-acf1-a5a6c867ca36')\"\n",
              "              title=\"Convert this dataframe to an interactive table.\"\n",
              "              style=\"display:none;\">\n",
              "        \n",
              "  <svg xmlns=\"http://www.w3.org/2000/svg\" height=\"24px\"viewBox=\"0 0 24 24\"\n",
              "       width=\"24px\">\n",
              "    <path d=\"M0 0h24v24H0V0z\" fill=\"none\"/>\n",
              "    <path d=\"M18.56 5.44l.94 2.06.94-2.06 2.06-.94-2.06-.94-.94-2.06-.94 2.06-2.06.94zm-11 1L8.5 8.5l.94-2.06 2.06-.94-2.06-.94L8.5 2.5l-.94 2.06-2.06.94zm10 10l.94 2.06.94-2.06 2.06-.94-2.06-.94-.94-2.06-.94 2.06-2.06.94z\"/><path d=\"M17.41 7.96l-1.37-1.37c-.4-.4-.92-.59-1.43-.59-.52 0-1.04.2-1.43.59L10.3 9.45l-7.72 7.72c-.78.78-.78 2.05 0 2.83L4 21.41c.39.39.9.59 1.41.59.51 0 1.02-.2 1.41-.59l7.78-7.78 2.81-2.81c.8-.78.8-2.07 0-2.86zM5.41 20L4 18.59l7.72-7.72 1.47 1.35L5.41 20z\"/>\n",
              "  </svg>\n",
              "      </button>\n",
              "      \n",
              "  <style>\n",
              "    .colab-df-container {\n",
              "      display:flex;\n",
              "      flex-wrap:wrap;\n",
              "      gap: 12px;\n",
              "    }\n",
              "\n",
              "    .colab-df-convert {\n",
              "      background-color: #E8F0FE;\n",
              "      border: none;\n",
              "      border-radius: 50%;\n",
              "      cursor: pointer;\n",
              "      display: none;\n",
              "      fill: #1967D2;\n",
              "      height: 32px;\n",
              "      padding: 0 0 0 0;\n",
              "      width: 32px;\n",
              "    }\n",
              "\n",
              "    .colab-df-convert:hover {\n",
              "      background-color: #E2EBFA;\n",
              "      box-shadow: 0px 1px 2px rgba(60, 64, 67, 0.3), 0px 1px 3px 1px rgba(60, 64, 67, 0.15);\n",
              "      fill: #174EA6;\n",
              "    }\n",
              "\n",
              "    [theme=dark] .colab-df-convert {\n",
              "      background-color: #3B4455;\n",
              "      fill: #D2E3FC;\n",
              "    }\n",
              "\n",
              "    [theme=dark] .colab-df-convert:hover {\n",
              "      background-color: #434B5C;\n",
              "      box-shadow: 0px 1px 3px 1px rgba(0, 0, 0, 0.15);\n",
              "      filter: drop-shadow(0px 1px 2px rgba(0, 0, 0, 0.3));\n",
              "      fill: #FFFFFF;\n",
              "    }\n",
              "  </style>\n",
              "\n",
              "      <script>\n",
              "        const buttonEl =\n",
              "          document.querySelector('#df-7bd8247a-ecce-478c-acf1-a5a6c867ca36 button.colab-df-convert');\n",
              "        buttonEl.style.display =\n",
              "          google.colab.kernel.accessAllowed ? 'block' : 'none';\n",
              "\n",
              "        async function convertToInteractive(key) {\n",
              "          const element = document.querySelector('#df-7bd8247a-ecce-478c-acf1-a5a6c867ca36');\n",
              "          const dataTable =\n",
              "            await google.colab.kernel.invokeFunction('convertToInteractive',\n",
              "                                                     [key], {});\n",
              "          if (!dataTable) return;\n",
              "\n",
              "          const docLinkHtml = 'Like what you see? Visit the ' +\n",
              "            '<a target=\"_blank\" href=https://colab.research.google.com/notebooks/data_table.ipynb>data table notebook</a>'\n",
              "            + ' to learn more about interactive tables.';\n",
              "          element.innerHTML = '';\n",
              "          dataTable['output_type'] = 'display_data';\n",
              "          await google.colab.output.renderOutput(dataTable, element);\n",
              "          const docLink = document.createElement('div');\n",
              "          docLink.innerHTML = docLinkHtml;\n",
              "          element.appendChild(docLink);\n",
              "        }\n",
              "      </script>\n",
              "    </div>\n",
              "  </div>\n",
              "  "
            ]
          },
          "metadata": {},
          "execution_count": 9
        }
      ]
    },
    {
      "cell_type": "code",
      "source": [
        "X_test.head()"
      ],
      "metadata": {
        "colab": {
          "base_uri": "https://localhost:8080/",
          "height": 206
        },
        "id": "f52uql__y23l",
        "outputId": "820836fe-a6c6-4989-b80e-2f899d0f462f"
      },
      "execution_count": 10,
      "outputs": [
        {
          "output_type": "execute_result",
          "data": {
            "text/plain": [
              "       loan_size  interest_rate  borrower_income  debt_to_income  \\\n",
              "67504     8100.0          6.575            42500        0.294118   \n",
              "55887     9000.0          6.930            45800        0.344978   \n",
              "14010     9900.0          7.345            49700        0.396378   \n",
              "43768     9100.0          6.976            46200        0.350649   \n",
              "24257    10100.0          7.427            50500        0.405941   \n",
              "\n",
              "       num_of_accounts  derogatory_marks  total_debt  \n",
              "67504                2                 0       12500  \n",
              "55887                3                 0       15800  \n",
              "14010                4                 0       19700  \n",
              "43768                3                 0       16200  \n",
              "24257                4                 1       20500  "
            ],
            "text/html": [
              "\n",
              "  <div id=\"df-dd70286d-36bc-4aab-b545-3ce183107e44\">\n",
              "    <div class=\"colab-df-container\">\n",
              "      <div>\n",
              "<style scoped>\n",
              "    .dataframe tbody tr th:only-of-type {\n",
              "        vertical-align: middle;\n",
              "    }\n",
              "\n",
              "    .dataframe tbody tr th {\n",
              "        vertical-align: top;\n",
              "    }\n",
              "\n",
              "    .dataframe thead th {\n",
              "        text-align: right;\n",
              "    }\n",
              "</style>\n",
              "<table border=\"1\" class=\"dataframe\">\n",
              "  <thead>\n",
              "    <tr style=\"text-align: right;\">\n",
              "      <th></th>\n",
              "      <th>loan_size</th>\n",
              "      <th>interest_rate</th>\n",
              "      <th>borrower_income</th>\n",
              "      <th>debt_to_income</th>\n",
              "      <th>num_of_accounts</th>\n",
              "      <th>derogatory_marks</th>\n",
              "      <th>total_debt</th>\n",
              "    </tr>\n",
              "  </thead>\n",
              "  <tbody>\n",
              "    <tr>\n",
              "      <th>67504</th>\n",
              "      <td>8100.0</td>\n",
              "      <td>6.575</td>\n",
              "      <td>42500</td>\n",
              "      <td>0.294118</td>\n",
              "      <td>2</td>\n",
              "      <td>0</td>\n",
              "      <td>12500</td>\n",
              "    </tr>\n",
              "    <tr>\n",
              "      <th>55887</th>\n",
              "      <td>9000.0</td>\n",
              "      <td>6.930</td>\n",
              "      <td>45800</td>\n",
              "      <td>0.344978</td>\n",
              "      <td>3</td>\n",
              "      <td>0</td>\n",
              "      <td>15800</td>\n",
              "    </tr>\n",
              "    <tr>\n",
              "      <th>14010</th>\n",
              "      <td>9900.0</td>\n",
              "      <td>7.345</td>\n",
              "      <td>49700</td>\n",
              "      <td>0.396378</td>\n",
              "      <td>4</td>\n",
              "      <td>0</td>\n",
              "      <td>19700</td>\n",
              "    </tr>\n",
              "    <tr>\n",
              "      <th>43768</th>\n",
              "      <td>9100.0</td>\n",
              "      <td>6.976</td>\n",
              "      <td>46200</td>\n",
              "      <td>0.350649</td>\n",
              "      <td>3</td>\n",
              "      <td>0</td>\n",
              "      <td>16200</td>\n",
              "    </tr>\n",
              "    <tr>\n",
              "      <th>24257</th>\n",
              "      <td>10100.0</td>\n",
              "      <td>7.427</td>\n",
              "      <td>50500</td>\n",
              "      <td>0.405941</td>\n",
              "      <td>4</td>\n",
              "      <td>1</td>\n",
              "      <td>20500</td>\n",
              "    </tr>\n",
              "  </tbody>\n",
              "</table>\n",
              "</div>\n",
              "      <button class=\"colab-df-convert\" onclick=\"convertToInteractive('df-dd70286d-36bc-4aab-b545-3ce183107e44')\"\n",
              "              title=\"Convert this dataframe to an interactive table.\"\n",
              "              style=\"display:none;\">\n",
              "        \n",
              "  <svg xmlns=\"http://www.w3.org/2000/svg\" height=\"24px\"viewBox=\"0 0 24 24\"\n",
              "       width=\"24px\">\n",
              "    <path d=\"M0 0h24v24H0V0z\" fill=\"none\"/>\n",
              "    <path d=\"M18.56 5.44l.94 2.06.94-2.06 2.06-.94-2.06-.94-.94-2.06-.94 2.06-2.06.94zm-11 1L8.5 8.5l.94-2.06 2.06-.94-2.06-.94L8.5 2.5l-.94 2.06-2.06.94zm10 10l.94 2.06.94-2.06 2.06-.94-2.06-.94-.94-2.06-.94 2.06-2.06.94z\"/><path d=\"M17.41 7.96l-1.37-1.37c-.4-.4-.92-.59-1.43-.59-.52 0-1.04.2-1.43.59L10.3 9.45l-7.72 7.72c-.78.78-.78 2.05 0 2.83L4 21.41c.39.39.9.59 1.41.59.51 0 1.02-.2 1.41-.59l7.78-7.78 2.81-2.81c.8-.78.8-2.07 0-2.86zM5.41 20L4 18.59l7.72-7.72 1.47 1.35L5.41 20z\"/>\n",
              "  </svg>\n",
              "      </button>\n",
              "      \n",
              "  <style>\n",
              "    .colab-df-container {\n",
              "      display:flex;\n",
              "      flex-wrap:wrap;\n",
              "      gap: 12px;\n",
              "    }\n",
              "\n",
              "    .colab-df-convert {\n",
              "      background-color: #E8F0FE;\n",
              "      border: none;\n",
              "      border-radius: 50%;\n",
              "      cursor: pointer;\n",
              "      display: none;\n",
              "      fill: #1967D2;\n",
              "      height: 32px;\n",
              "      padding: 0 0 0 0;\n",
              "      width: 32px;\n",
              "    }\n",
              "\n",
              "    .colab-df-convert:hover {\n",
              "      background-color: #E2EBFA;\n",
              "      box-shadow: 0px 1px 2px rgba(60, 64, 67, 0.3), 0px 1px 3px 1px rgba(60, 64, 67, 0.15);\n",
              "      fill: #174EA6;\n",
              "    }\n",
              "\n",
              "    [theme=dark] .colab-df-convert {\n",
              "      background-color: #3B4455;\n",
              "      fill: #D2E3FC;\n",
              "    }\n",
              "\n",
              "    [theme=dark] .colab-df-convert:hover {\n",
              "      background-color: #434B5C;\n",
              "      box-shadow: 0px 1px 3px 1px rgba(0, 0, 0, 0.15);\n",
              "      filter: drop-shadow(0px 1px 2px rgba(0, 0, 0, 0.3));\n",
              "      fill: #FFFFFF;\n",
              "    }\n",
              "  </style>\n",
              "\n",
              "      <script>\n",
              "        const buttonEl =\n",
              "          document.querySelector('#df-dd70286d-36bc-4aab-b545-3ce183107e44 button.colab-df-convert');\n",
              "        buttonEl.style.display =\n",
              "          google.colab.kernel.accessAllowed ? 'block' : 'none';\n",
              "\n",
              "        async function convertToInteractive(key) {\n",
              "          const element = document.querySelector('#df-dd70286d-36bc-4aab-b545-3ce183107e44');\n",
              "          const dataTable =\n",
              "            await google.colab.kernel.invokeFunction('convertToInteractive',\n",
              "                                                     [key], {});\n",
              "          if (!dataTable) return;\n",
              "\n",
              "          const docLinkHtml = 'Like what you see? Visit the ' +\n",
              "            '<a target=\"_blank\" href=https://colab.research.google.com/notebooks/data_table.ipynb>data table notebook</a>'\n",
              "            + ' to learn more about interactive tables.';\n",
              "          element.innerHTML = '';\n",
              "          dataTable['output_type'] = 'display_data';\n",
              "          await google.colab.output.renderOutput(dataTable, element);\n",
              "          const docLink = document.createElement('div');\n",
              "          docLink.innerHTML = docLinkHtml;\n",
              "          element.appendChild(docLink);\n",
              "        }\n",
              "      </script>\n",
              "    </div>\n",
              "  </div>\n",
              "  "
            ]
          },
          "metadata": {},
          "execution_count": 10
        }
      ]
    },
    {
      "cell_type": "markdown",
      "source": [
        "# Create a logistic regression model, fit it to the data, and print the model's score"
      ],
      "metadata": {
        "id": "YdgjzJB_y8QI"
      }
    },
    {
      "cell_type": "code",
      "source": [
        "# Create the logistic model\n",
        "from sklearn.linear_model import LogisticRegression\n",
        "model = LogisticRegression()\n",
        "model"
      ],
      "metadata": {
        "colab": {
          "base_uri": "https://localhost:8080/"
        },
        "id": "PG2SgAfHzCfM",
        "outputId": "2204615c-a38e-4159-ace9-a06b9e6d84d5"
      },
      "execution_count": 11,
      "outputs": [
        {
          "output_type": "execute_result",
          "data": {
            "text/plain": [
              "LogisticRegression()"
            ]
          },
          "metadata": {},
          "execution_count": 11
        }
      ]
    },
    {
      "cell_type": "code",
      "source": [
        "param_grid = {\n",
        "    'C': [0.001, 0.01, 0.1, 1, 10, 100],\n",
        "    'tol': [0.00001, 0.0001, 0.001]\n",
        "}\n",
        "param_grid"
      ],
      "metadata": {
        "colab": {
          "base_uri": "https://localhost:8080/"
        },
        "id": "jnegSJKjzKO1",
        "outputId": "be6c16bd-7bb3-4951-98d1-3268a6204e01"
      },
      "execution_count": 12,
      "outputs": [
        {
          "output_type": "execute_result",
          "data": {
            "text/plain": [
              "{'C': [0.001, 0.01, 0.1, 1, 10, 100], 'tol': [1e-05, 0.0001, 0.001]}"
            ]
          },
          "metadata": {},
          "execution_count": 12
        }
      ]
    },
    {
      "cell_type": "code",
      "source": [
        "from sklearn.model_selection import GridSearchCV\n",
        "grid_clf = GridSearchCV(model, param_grid, verbose=3)"
      ],
      "metadata": {
        "id": "_63jrgTB0EOx"
      },
      "execution_count": 13,
      "outputs": []
    },
    {
      "cell_type": "code",
      "source": [
        "# Fit the model by using the grid search classifier. \n",
        "# This will take the LogisticRegression model and try each combination of parameters.\n",
        "grid_clf.fit(X_train, y_train)"
      ],
      "metadata": {
        "colab": {
          "base_uri": "https://localhost:8080/"
        },
        "id": "vg3lNOXq0KMG",
        "outputId": "92ecf480-8687-4146-fe0c-a12718940e2e"
      },
      "execution_count": 14,
      "outputs": [
        {
          "output_type": "stream",
          "name": "stdout",
          "text": [
            "Fitting 5 folds for each of 18 candidates, totalling 90 fits\n",
            "[CV 1/5] END ................C=0.001, tol=1e-05;, score=0.994 total time=   0.3s\n",
            "[CV 2/5] END ................C=0.001, tol=1e-05;, score=0.991 total time=   0.4s\n",
            "[CV 3/5] END ................C=0.001, tol=1e-05;, score=0.990 total time=   0.3s\n",
            "[CV 4/5] END ................C=0.001, tol=1e-05;, score=0.992 total time=   0.3s\n",
            "[CV 5/5] END ................C=0.001, tol=1e-05;, score=0.992 total time=   0.4s\n",
            "[CV 1/5] END ...............C=0.001, tol=0.0001;, score=0.994 total time=   0.3s\n",
            "[CV 2/5] END ...............C=0.001, tol=0.0001;, score=0.991 total time=   0.4s\n",
            "[CV 3/5] END ...............C=0.001, tol=0.0001;, score=0.990 total time=   0.4s\n",
            "[CV 4/5] END ...............C=0.001, tol=0.0001;, score=0.992 total time=   0.3s\n",
            "[CV 5/5] END ...............C=0.001, tol=0.0001;, score=0.992 total time=   0.3s\n",
            "[CV 1/5] END ................C=0.001, tol=0.001;, score=0.994 total time=   0.3s\n",
            "[CV 2/5] END ................C=0.001, tol=0.001;, score=0.991 total time=   0.4s\n",
            "[CV 3/5] END ................C=0.001, tol=0.001;, score=0.990 total time=   0.3s\n",
            "[CV 4/5] END ................C=0.001, tol=0.001;, score=0.992 total time=   0.4s\n",
            "[CV 5/5] END ................C=0.001, tol=0.001;, score=0.992 total time=   0.3s\n",
            "[CV 1/5] END .................C=0.01, tol=1e-05;, score=0.994 total time=   0.3s\n",
            "[CV 2/5] END .................C=0.01, tol=1e-05;, score=0.991 total time=   0.4s\n",
            "[CV 3/5] END .................C=0.01, tol=1e-05;, score=0.990 total time=   0.3s\n",
            "[CV 4/5] END .................C=0.01, tol=1e-05;, score=0.992 total time=   0.3s\n",
            "[CV 5/5] END .................C=0.01, tol=1e-05;, score=0.992 total time=   0.4s\n",
            "[CV 1/5] END ................C=0.01, tol=0.0001;, score=0.994 total time=   0.3s\n",
            "[CV 2/5] END ................C=0.01, tol=0.0001;, score=0.991 total time=   0.3s\n",
            "[CV 3/5] END ................C=0.01, tol=0.0001;, score=0.990 total time=   0.4s\n",
            "[CV 4/5] END ................C=0.01, tol=0.0001;, score=0.992 total time=   0.3s\n",
            "[CV 5/5] END ................C=0.01, tol=0.0001;, score=0.992 total time=   0.3s\n",
            "[CV 1/5] END .................C=0.01, tol=0.001;, score=0.994 total time=   0.3s\n",
            "[CV 2/5] END .................C=0.01, tol=0.001;, score=0.991 total time=   0.3s\n",
            "[CV 3/5] END .................C=0.01, tol=0.001;, score=0.990 total time=   0.3s\n",
            "[CV 4/5] END .................C=0.01, tol=0.001;, score=0.992 total time=   0.4s\n",
            "[CV 5/5] END .................C=0.01, tol=0.001;, score=0.992 total time=   0.3s\n",
            "[CV 1/5] END ..................C=0.1, tol=1e-05;, score=0.994 total time=   0.3s\n",
            "[CV 2/5] END ..................C=0.1, tol=1e-05;, score=0.991 total time=   0.4s\n",
            "[CV 3/5] END ..................C=0.1, tol=1e-05;, score=0.990 total time=   0.3s\n",
            "[CV 4/5] END ..................C=0.1, tol=1e-05;, score=0.992 total time=   0.3s\n",
            "[CV 5/5] END ..................C=0.1, tol=1e-05;, score=0.992 total time=   0.4s\n",
            "[CV 1/5] END .................C=0.1, tol=0.0001;, score=0.994 total time=   0.3s\n",
            "[CV 2/5] END .................C=0.1, tol=0.0001;, score=0.991 total time=   0.4s\n",
            "[CV 3/5] END .................C=0.1, tol=0.0001;, score=0.990 total time=   0.3s\n",
            "[CV 4/5] END .................C=0.1, tol=0.0001;, score=0.992 total time=   0.3s\n",
            "[CV 5/5] END .................C=0.1, tol=0.0001;, score=0.992 total time=   0.3s\n",
            "[CV 1/5] END ..................C=0.1, tol=0.001;, score=0.994 total time=   0.3s\n",
            "[CV 2/5] END ..................C=0.1, tol=0.001;, score=0.991 total time=   0.4s\n",
            "[CV 3/5] END ..................C=0.1, tol=0.001;, score=0.990 total time=   0.4s\n",
            "[CV 4/5] END ..................C=0.1, tol=0.001;, score=0.992 total time=   0.3s\n",
            "[CV 5/5] END ..................C=0.1, tol=0.001;, score=0.992 total time=   0.3s\n",
            "[CV 1/5] END ....................C=1, tol=1e-05;, score=0.994 total time=   0.3s\n",
            "[CV 2/5] END ....................C=1, tol=1e-05;, score=0.991 total time=   0.4s\n",
            "[CV 3/5] END ....................C=1, tol=1e-05;, score=0.990 total time=   0.3s\n",
            "[CV 4/5] END ....................C=1, tol=1e-05;, score=0.992 total time=   0.3s\n",
            "[CV 5/5] END ....................C=1, tol=1e-05;, score=0.992 total time=   0.3s\n",
            "[CV 1/5] END ...................C=1, tol=0.0001;, score=0.994 total time=   0.3s\n",
            "[CV 2/5] END ...................C=1, tol=0.0001;, score=0.991 total time=   0.4s\n",
            "[CV 3/5] END ...................C=1, tol=0.0001;, score=0.990 total time=   0.4s\n",
            "[CV 4/5] END ...................C=1, tol=0.0001;, score=0.992 total time=   0.3s\n",
            "[CV 5/5] END ...................C=1, tol=0.0001;, score=0.992 total time=   0.4s\n",
            "[CV 1/5] END ....................C=1, tol=0.001;, score=0.994 total time=   0.3s\n",
            "[CV 2/5] END ....................C=1, tol=0.001;, score=0.991 total time=   0.4s\n",
            "[CV 3/5] END ....................C=1, tol=0.001;, score=0.990 total time=   0.3s\n",
            "[CV 4/5] END ....................C=1, tol=0.001;, score=0.992 total time=   0.3s\n",
            "[CV 5/5] END ....................C=1, tol=0.001;, score=0.992 total time=   0.4s\n",
            "[CV 1/5] END ...................C=10, tol=1e-05;, score=0.994 total time=   0.3s\n",
            "[CV 2/5] END ...................C=10, tol=1e-05;, score=0.991 total time=   0.4s\n",
            "[CV 3/5] END ...................C=10, tol=1e-05;, score=0.990 total time=   0.3s\n",
            "[CV 4/5] END ...................C=10, tol=1e-05;, score=0.992 total time=   0.3s\n",
            "[CV 5/5] END ...................C=10, tol=1e-05;, score=0.992 total time=   0.3s\n",
            "[CV 1/5] END ..................C=10, tol=0.0001;, score=0.994 total time=   0.3s\n",
            "[CV 2/5] END ..................C=10, tol=0.0001;, score=0.991 total time=   0.4s\n",
            "[CV 3/5] END ..................C=10, tol=0.0001;, score=0.990 total time=   0.4s\n",
            "[CV 4/5] END ..................C=10, tol=0.0001;, score=0.992 total time=   0.3s\n",
            "[CV 5/5] END ..................C=10, tol=0.0001;, score=0.992 total time=   0.4s\n",
            "[CV 1/5] END ...................C=10, tol=0.001;, score=0.994 total time=   0.3s\n",
            "[CV 2/5] END ...................C=10, tol=0.001;, score=0.991 total time=   0.4s\n",
            "[CV 3/5] END ...................C=10, tol=0.001;, score=0.990 total time=   0.4s\n",
            "[CV 4/5] END ...................C=10, tol=0.001;, score=0.992 total time=   0.3s\n",
            "[CV 5/5] END ...................C=10, tol=0.001;, score=0.992 total time=   0.3s\n",
            "[CV 1/5] END ..................C=100, tol=1e-05;, score=0.994 total time=   0.3s\n",
            "[CV 2/5] END ..................C=100, tol=1e-05;, score=0.991 total time=   0.3s\n",
            "[CV 3/5] END ..................C=100, tol=1e-05;, score=0.990 total time=   0.3s\n",
            "[CV 4/5] END ..................C=100, tol=1e-05;, score=0.992 total time=   0.3s\n",
            "[CV 5/5] END ..................C=100, tol=1e-05;, score=0.992 total time=   0.6s\n",
            "[CV 1/5] END .................C=100, tol=0.0001;, score=0.994 total time=   0.3s\n",
            "[CV 2/5] END .................C=100, tol=0.0001;, score=0.991 total time=   0.7s\n",
            "[CV 3/5] END .................C=100, tol=0.0001;, score=0.990 total time=   0.3s\n",
            "[CV 4/5] END .................C=100, tol=0.0001;, score=0.992 total time=   0.6s\n",
            "[CV 5/5] END .................C=100, tol=0.0001;, score=0.992 total time=   0.3s\n",
            "[CV 1/5] END ..................C=100, tol=0.001;, score=0.994 total time=   0.3s\n",
            "[CV 2/5] END ..................C=100, tol=0.001;, score=0.991 total time=   0.4s\n",
            "[CV 3/5] END ..................C=100, tol=0.001;, score=0.990 total time=   0.3s\n",
            "[CV 4/5] END ..................C=100, tol=0.001;, score=0.992 total time=   0.3s\n",
            "[CV 5/5] END ..................C=100, tol=0.001;, score=0.992 total time=   0.4s\n"
          ]
        },
        {
          "output_type": "execute_result",
          "data": {
            "text/plain": [
              "GridSearchCV(estimator=LogisticRegression(),\n",
              "             param_grid={'C': [0.001, 0.01, 0.1, 1, 10, 100],\n",
              "                         'tol': [1e-05, 0.0001, 0.001]},\n",
              "             verbose=3)"
            ]
          },
          "metadata": {},
          "execution_count": 14
        }
      ]
    },
    {
      "cell_type": "code",
      "source": [
        "# List the best parameters for this dataset\n",
        "print(grid_clf.best_params_)"
      ],
      "metadata": {
        "colab": {
          "base_uri": "https://localhost:8080/"
        },
        "id": "sj8Cr_7j0cBH",
        "outputId": "868a0569-da43-4c2a-981a-1bb5d4cd1812"
      },
      "execution_count": 15,
      "outputs": [
        {
          "output_type": "stream",
          "name": "stdout",
          "text": [
            "{'C': 0.001, 'tol': 1e-05}\n"
          ]
        }
      ]
    },
    {
      "cell_type": "code",
      "source": [
        "# List the best score\n",
        "print(grid_clf.best_score_)"
      ],
      "metadata": {
        "colab": {
          "base_uri": "https://localhost:8080/"
        },
        "id": "q90U7UD90mP_",
        "outputId": "b9db87db-ad55-49d7-9293-433f3145487c"
      },
      "execution_count": 16,
      "outputs": [
        {
          "output_type": "stream",
          "name": "stdout",
          "text": [
            "0.99186611845342\n"
          ]
        }
      ]
    },
    {
      "cell_type": "code",
      "source": [
        "# Make predictions with the hypertuned model\n",
        "predictions = grid_clf.predict(X_test)\n",
        "predictions"
      ],
      "metadata": {
        "colab": {
          "base_uri": "https://localhost:8080/"
        },
        "id": "ES9Kwhfl1DLw",
        "outputId": "4cf103fa-7e2a-4558-fb29-933b1ecb1d39"
      },
      "execution_count": 17,
      "outputs": [
        {
          "output_type": "execute_result",
          "data": {
            "text/plain": [
              "array([0, 0, 0, ..., 0, 0, 0])"
            ]
          },
          "metadata": {},
          "execution_count": 17
        }
      ]
    },
    {
      "cell_type": "code",
      "source": [
        "# Score the hypertuned model on the test dataset\n",
        "grid_clf.score(X_test, y_test)"
      ],
      "metadata": {
        "colab": {
          "base_uri": "https://localhost:8080/"
        },
        "id": "VHzlTF0-1J4O",
        "outputId": "3734d2e5-20a0-4661-b10b-1ee6d547146e"
      },
      "execution_count": 18,
      "outputs": [
        {
          "output_type": "execute_result",
          "data": {
            "text/plain": [
              "0.9924680148576145"
            ]
          },
          "metadata": {},
          "execution_count": 18
        }
      ]
    },
    {
      "cell_type": "code",
      "source": [
        "# Calculate the classification report\n",
        "from sklearn.metrics import classification_report\n",
        "print(classification_report(y_test, predictions,\n",
        "                            target_names=target_names))"
      ],
      "metadata": {
        "colab": {
          "base_uri": "https://localhost:8080/"
        },
        "id": "lj1HyCmf1Rbc",
        "outputId": "76c262c2-df40-46dd-c635-1fbec8da71d5"
      },
      "execution_count": 19,
      "outputs": [
        {
          "output_type": "stream",
          "name": "stdout",
          "text": [
            "              precision    recall  f1-score   support\n",
            "\n",
            "    low risk       1.00      1.00      1.00     18792\n",
            "   high risk       0.85      0.91      0.88       592\n",
            "\n",
            "    accuracy                           0.99     19384\n",
            "   macro avg       0.93      0.95      0.94     19384\n",
            "weighted avg       0.99      0.99      0.99     19384\n",
            "\n"
          ]
        }
      ]
    },
    {
      "cell_type": "code",
      "source": [
        "from sklearn.linear_model import LogisticRegression\n",
        "classifier = LogisticRegression()\n",
        "classifier"
      ],
      "metadata": {
        "colab": {
          "base_uri": "https://localhost:8080/"
        },
        "id": "SdDAvZC31ULA",
        "outputId": "b120e0ae-7156-496d-81e3-fe25205557e3"
      },
      "execution_count": 20,
      "outputs": [
        {
          "output_type": "execute_result",
          "data": {
            "text/plain": [
              "LogisticRegression()"
            ]
          },
          "metadata": {},
          "execution_count": 20
        }
      ]
    },
    {
      "cell_type": "code",
      "source": [
        "classifier.fit(X_train, y_train)"
      ],
      "metadata": {
        "colab": {
          "base_uri": "https://localhost:8080/"
        },
        "id": "un34IdSD1ZAz",
        "outputId": "deb8e3da-7592-4de6-9dee-57a6e35b1033"
      },
      "execution_count": 21,
      "outputs": [
        {
          "output_type": "execute_result",
          "data": {
            "text/plain": [
              "LogisticRegression()"
            ]
          },
          "metadata": {},
          "execution_count": 21
        }
      ]
    },
    {
      "cell_type": "code",
      "source": [
        "# Train a Logistic Regression model print the model score\n",
        "print(f\"Training Data Score: {classifier.score(X_train, y_train)}\")\n",
        "print(f\"Testing Data Score: {classifier.score(X_test, y_test)}\")"
      ],
      "metadata": {
        "colab": {
          "base_uri": "https://localhost:8080/"
        },
        "id": "qzNL0rPC1eKC",
        "outputId": "7f1c8949-d3d2-4c15-ce0a-6017e6ef78d6"
      },
      "execution_count": 22,
      "outputs": [
        {
          "output_type": "stream",
          "name": "stdout",
          "text": [
            "Training Data Score: 0.9919177328380795\n",
            "Testing Data Score: 0.9924680148576145\n"
          ]
        }
      ]
    }
  ]
}